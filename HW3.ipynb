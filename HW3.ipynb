{
 "cells": [
  {
   "cell_type": "code",
   "execution_count": 1,
   "metadata": {},
   "outputs": [],
   "source": [
    "#import all necessary packages\n",
    "\n",
    "import pyspark\n",
    "from pyspark.sql import SparkSession, types as typ, functions as f\n",
    "\n",
    "from pyspark.ml import Pipeline\n",
    "import pyspark.ml.feature as ft\n",
    "import pyspark.ml.classification as cl\n",
    "import sklearn.metrics as sk_me\n",
    "\n",
    "import numpy as np\n",
    "import matplotlib.pyplot as plt\n",
    "\n",
    "spark = SparkSession.builder.getOrCreate()\n",
    "sc = spark.sparkContext"
   ]
  },
  {
   "cell_type": "code",
   "execution_count": 2,
   "metadata": {},
   "outputs": [
    {
     "data": {
      "text/html": [
       "\n",
       "        <div>\n",
       "            <p><b>SparkContext</b></p>\n",
       "\n",
       "            <p><a href=\"http://192.168.0.4:4040\">Spark UI</a></p>\n",
       "\n",
       "            <dl>\n",
       "              <dt>Version</dt>\n",
       "                <dd><code>v3.3.2</code></dd>\n",
       "              <dt>Master</dt>\n",
       "                <dd><code>local[*]</code></dd>\n",
       "              <dt>AppName</dt>\n",
       "                <dd><code>PySparkShell</code></dd>\n",
       "            </dl>\n",
       "        </div>\n",
       "        "
      ],
      "text/plain": [
       "<SparkContext master=local[*] appName=PySparkShell>"
      ]
     },
     "execution_count": 2,
     "metadata": {},
     "output_type": "execute_result"
    }
   ],
   "source": [
    "sc"
   ]
  },
  {
   "cell_type": "markdown",
   "metadata": {},
   "source": [
    "## Part I"
   ]
  },
  {
   "cell_type": "code",
   "execution_count": 3,
   "metadata": {},
   "outputs": [
    {
     "name": "stdout",
     "output_type": "stream",
     "text": [
      "+--------+--------+\n",
      "|    Col1|    Col2|\n",
      "+--------+--------+\n",
      "|C0005790|C0005778|\n",
      "|C1255279|C3537249|\n",
      "|C1255446|C0002520|\n",
      "|C1255552|C0596019|\n",
      "|C1254417|C0004611|\n",
      "+--------+--------+\n",
      "only showing top 5 rows\n",
      "\n"
     ]
    }
   ],
   "source": [
    "#read the data\n",
    "d1 = spark.read.csv('rel.csv', header=False)\n",
    "#rename columns\n",
    "d1 = (d1.withColumnRenamed('_c0', 'Col1')\n",
    "        .withColumnRenamed('_c1', 'Col2')) \n",
    "\n",
    "#show the first 5\n",
    "d1.show(5)"
   ]
  },
  {
   "cell_type": "code",
   "execution_count": 4,
   "metadata": {},
   "outputs": [
    {
     "name": "stdout",
     "output_type": "stream",
     "text": [
      "+--------+--------+\n",
      "|      C1|      C2|\n",
      "+--------+--------+\n",
      "|C0005778|C0005790|\n",
      "|C1255279|C3537249|\n",
      "|C0002520|C1255446|\n",
      "|C0596019|C1255552|\n",
      "|C0004611|C1254417|\n",
      "+--------+--------+\n",
      "only showing top 5 rows\n",
      "\n"
     ]
    }
   ],
   "source": [
    "# Step 1: Order the pair of strings alphabetically.\n",
    "\n",
    "df1 = d1.withColumn('C1', f.when(d1.Col1 <= d1.Col2, d1.Col1).otherwise(d1.Col2))\n",
    "df2 = df1.withColumn('C2', f.when(d1.Col1 > d1.Col2, d1.Col1).otherwise(d1.Col2))\n",
    "\n",
    "#remain the 2 new columns\n",
    "df3 = df2.drop('Col1', 'Col2')\n",
    "df3.show(5)"
   ]
  },
  {
   "cell_type": "code",
   "execution_count": 5,
   "metadata": {},
   "outputs": [
    {
     "name": "stdout",
     "output_type": "stream",
     "text": [
      "+--------+--------+-----+\n",
      "|      C1|      C2|count|\n",
      "+--------+--------+-----+\n",
      "|C0000005|C0036775|    4|\n",
      "|C0000039|C0000039|   22|\n",
      "|C0000039|C0001555|    2|\n",
      "|C0000039|C0001688|    2|\n",
      "|C0000039|C0002776|    2|\n",
      "+--------+--------+-----+\n",
      "only showing top 5 rows\n",
      "\n"
     ]
    }
   ],
   "source": [
    "# Step 2: \n",
    "#(1) Count the number of instances for each ordered pair resulted in Step 1.\n",
    "\n",
    "out = df3.groupby(['C1', 'C2']).count()\n",
    "out = out.orderBy(['C1','C2'],ascending=True)\n",
    "out.show(5)"
   ]
  },
  {
   "cell_type": "code",
   "execution_count": 6,
   "metadata": {},
   "outputs": [
    {
     "name": "stdout",
     "output_type": "stream",
     "text": [
      "+--------------------+\n",
      "|          pair-count|\n",
      "+--------------------+\n",
      "|\"C0000005\", \"C003...|\n",
      "|\"C0000039\", \"C000...|\n",
      "|\"C0000039\", \"C000...|\n",
      "|\"C0000039\", \"C000...|\n",
      "|\"C0000039\", \"C000...|\n",
      "+--------------------+\n",
      "only showing top 5 rows\n",
      "\n"
     ]
    }
   ],
   "source": [
    "#(2) Output the result in a plain text file (named as “pair-count.txt”). \n",
    "\n",
    "#prepare for the correct format to the output\n",
    "temp1 = out.withColumn('combined',f.concat_ws(\" \", out.C1,out.C2))\n",
    "temp2 = (temp1.withColumn('splitted', f.split('combined', ' '))\n",
    "         .withColumn('joined', f.array_join(f.col('splitted'), '\", \"'))\n",
    "         .withColumn('warpped', f.concat(f.lit('\"'), f.col('joined'), f.lit('\"'))))\n",
    "temp2 = temp2.withColumn('pair-count',f.concat_ws(\" \", f.col('warpped'),f.col('count')))\n",
    "fin = temp2.drop('C1', 'C2', 'count', 'combined', 'splitted', 'joined', 'warpped')\n",
    "fin.show(5)\n",
    "\n",
    "#output the final result\n",
    "fin.coalesce(1).write.format(\"text\").option(\"header\", \"false\").mode(\"append\").save(\"pair-count.txt\")"
   ]
  },
  {
   "cell_type": "code",
   "execution_count": 7,
   "metadata": {},
   "outputs": [
    {
     "data": {
      "text/plain": [
       "12946540"
      ]
     },
     "execution_count": 7,
     "metadata": {},
     "output_type": "execute_result"
    }
   ],
   "source": [
    "# Step 3: Count the total number of ordered pairs.\n",
    "\n",
    "out.count()"
   ]
  },
  {
   "cell_type": "code",
   "execution_count": null,
   "metadata": {},
   "outputs": [],
   "source": []
  },
  {
   "cell_type": "markdown",
   "metadata": {},
   "source": [
    "## Part II"
   ]
  },
  {
   "cell_type": "code",
   "execution_count": 3,
   "metadata": {},
   "outputs": [
    {
     "name": "stdout",
     "output_type": "stream",
     "text": [
      "+-----------+-------+-------------+-------------+-------+----+------------------------+---+-------+\n",
      "|Pregnancies|Glucose|BloodPressure|SkinThickness|Insulin| BMI|DiabetesPedigreeFunction|Age|Outcome|\n",
      "+-----------+-------+-------------+-------------+-------+----+------------------------+---+-------+\n",
      "|          6|    148|           72|           35|      0|33.6|                   0.627| 50|      1|\n",
      "|          1|     85|           66|           29|      0|26.6|                   0.351| 31|      0|\n",
      "|          8|    183|           64|            0|      0|23.3|                   0.672| 32|      1|\n",
      "|          1|     89|           66|           23|     94|28.1|                   0.167| 21|      0|\n",
      "|          0|    137|           40|           35|    168|43.1|                   2.288| 33|      1|\n",
      "+-----------+-------+-------------+-------------+-------+----+------------------------+---+-------+\n",
      "only showing top 5 rows\n",
      "\n",
      "[('Pregnancies', 'string'), ('Glucose', 'string'), ('BloodPressure', 'string'), ('SkinThickness', 'string'), ('Insulin', 'string'), ('BMI', 'string'), ('DiabetesPedigreeFunction', 'string'), ('Age', 'string'), ('Outcome', 'string')]\n"
     ]
    }
   ],
   "source": [
    "#read data without schema\n",
    "d2NoSchema = spark.read.csv('diabetes.csv', header=True)\n",
    "\n",
    "d2NoSchema.show(5)\n",
    "print(d2NoSchema.dtypes)"
   ]
  },
  {
   "cell_type": "code",
   "execution_count": 4,
   "metadata": {},
   "outputs": [],
   "source": [
    "# read data with schema\n",
    "\n",
    "labels = [\n",
    "    ('Pregnancies', typ.IntegerType()),\n",
    "    ('Glucose', typ.IntegerType()),\n",
    "    ('BloodPressure', typ.IntegerType()),\n",
    "    ('SkinThickness', typ.IntegerType()),\n",
    "    ('Insulin', typ.IntegerType()),\n",
    "    ('BMI', typ.DoubleType()),\n",
    "    ('DiabetesPedigreeFunction', typ.DoubleType()),\n",
    "    ('Age', typ.IntegerType()),\n",
    "    ('Outcome', typ.IntegerType())\n",
    "]\n",
    "\n",
    "schema = typ.StructType([\n",
    "    typ.StructField(e[0], e[1], False) for e in labels\n",
    "])\n",
    "\n",
    "d2 = spark.read.csv('diabetes.csv', header=True, schema=schema)"
   ]
  },
  {
   "cell_type": "code",
   "execution_count": 5,
   "metadata": {},
   "outputs": [
    {
     "name": "stdout",
     "output_type": "stream",
     "text": [
      "+-----------+-------+-------------+-------------+-------+---+------------------------+---+-------+\n",
      "|Pregnancies|Glucose|BloodPressure|SkinThickness|Insulin|BMI|DiabetesPedigreeFunction|Age|Outcome|\n",
      "+-----------+-------+-------------+-------------+-------+---+------------------------+---+-------+\n",
      "+-----------+-------+-------------+-------------+-------+---+------------------------+---+-------+\n",
      "\n"
     ]
    }
   ],
   "source": [
    "# Step 1: Remove the rows where the column “BloodPressure”, “BMI” or “Glucose” is zero \n",
    "#(note: remove the row as long as one of the three columns is zero).\n",
    "\n",
    "df1 = d2.filter((d2.BloodPressure != 0) & (d2.BMI != 0) & (d2.Glucose != 0))\n",
    "\n",
    "#check the result\n",
    "df1.filter((df1.BloodPressure == 0) | (df1.BMI == 0) | (df1.Glucose == 0)).show()"
   ]
  },
  {
   "cell_type": "code",
   "execution_count": 6,
   "metadata": {},
   "outputs": [
    {
     "data": {
      "text/plain": [
       "[Row(Pregnancies_VEC=SparseVector(17, {6: 1.0})),\n",
       " Row(Pregnancies_VEC=SparseVector(17, {1: 1.0})),\n",
       " Row(Pregnancies_VEC=SparseVector(17, {8: 1.0})),\n",
       " Row(Pregnancies_VEC=SparseVector(17, {1: 1.0})),\n",
       " Row(Pregnancies_VEC=SparseVector(17, {0: 1.0}))]"
      ]
     },
     "execution_count": 6,
     "metadata": {},
     "output_type": "execute_result"
    }
   ],
   "source": [
    "# Step 2: Convert the categorical column “Pregnancies” into one-hot encoding.\n",
    "encoder = ft.OneHotEncoder(inputCol='Pregnancies', outputCol='Pregnancies_VEC')\n",
    "oheModel = encoder.fit(df1)\n",
    "df2 = oheModel.transform(df1)\n",
    "\n",
    "df2.select('Pregnancies_VEC').take(5)"
   ]
  },
  {
   "cell_type": "code",
   "execution_count": 7,
   "metadata": {},
   "outputs": [
    {
     "data": {
      "text/plain": [
       "[Row(Pregnancies=6, Glucose=148, BloodPressure=72, SkinThickness=35, Insulin=0, BMI=33.6, DiabetesPedigreeFunction=0.627, Age=50, Outcome=1, Pregnancies_VEC=SparseVector(17, {6: 1.0}), features=SparseVector(24, {0: 148.0, 1: 72.0, 2: 35.0, 4: 33.6, 5: 0.627, 6: 50.0, 13: 1.0})),\n",
       " Row(Pregnancies=1, Glucose=85, BloodPressure=66, SkinThickness=29, Insulin=0, BMI=26.6, DiabetesPedigreeFunction=0.351, Age=31, Outcome=0, Pregnancies_VEC=SparseVector(17, {1: 1.0}), features=SparseVector(24, {0: 85.0, 1: 66.0, 2: 29.0, 4: 26.6, 5: 0.351, 6: 31.0, 8: 1.0}))]"
      ]
     },
     "execution_count": 7,
     "metadata": {},
     "output_type": "execute_result"
    }
   ],
   "source": [
    "# Step 3: Create a single column with all the features collated together using VectorAssembler.\n",
    "\n",
    "featuresCreator = ft.VectorAssembler(inputCols=[ col[0] for col in labels[1:-1]] + [encoder.getOutputCol()], \n",
    "                                     outputCol='features')\n",
    "\n",
    "res = featuresCreator.transform(df2).take(2)\n",
    "res"
   ]
  },
  {
   "cell_type": "code",
   "execution_count": 8,
   "metadata": {},
   "outputs": [],
   "source": [
    "# Step 4: Random split the collated data into training (70%) and testing (30%) datasets and use 2017 as the seed.\n",
    "\n",
    "d2_train, d2_test = df1.randomSplit([0.7, 0.3], seed=2017)"
   ]
  },
  {
   "cell_type": "code",
   "execution_count": 9,
   "metadata": {},
   "outputs": [],
   "source": [
    "# Step 5: Implement a random forest classifier and specify the number of decision trees as 20.\n",
    "\n",
    "classifier = cl.RandomForestClassifier(\n",
    "    numTrees=20, \n",
    "    maxDepth=5, \n",
    "    labelCol='Outcome')\n",
    "\n",
    "pipeline = Pipeline(\n",
    "    stages=[\n",
    "        encoder,\n",
    "        featuresCreator, \n",
    "        classifier])\n",
    "\n",
    "model = pipeline.fit(d2_train)\n",
    "test = model.transform(d2_test)"
   ]
  },
  {
   "cell_type": "code",
   "execution_count": 10,
   "metadata": {},
   "outputs": [
    {
     "data": {
      "image/png": "[encoded data removed]",
      "text/plain": [
       "<Figure size 360x360 with 1 Axes>"
      ]
     },
     "metadata": {
      "needs_background": "light"
     },
     "output_type": "display_data"
    }
   ],
   "source": [
    "# Step 6: Evaluate the performance of the random forest classifier using the ROC curve metric.\n",
    "\n",
    "probArr = test.select('probability','Outcome') \\\n",
    "                    .rdd \\\n",
    "                    .map( lambda row: [row[0][1], row[1]] ).collect()\n",
    "probArr = np.array(probArr)\n",
    "\n",
    "fpr, tpr, thresholds = sk_me.roc_curve( probArr[:,1], probArr[:,0], pos_label=1)\n",
    "roc_auc = sk_me.auc(fpr, tpr)\n",
    "\n",
    "plt.figure(figsize=(5,5))\n",
    "plt.plot(fpr, tpr, label='ROC curve (area = {:0.2f})'.format(roc_auc))\n",
    "plt.plot([0, 1], [0, 1], 'k--')\n",
    "plt.xlim([0.0, 1.0])\n",
    "plt.ylim([0.0, 1.05])\n",
    "plt.xlabel('False Positive Rate')\n",
    "plt.ylabel('True Positive Rate')\n",
    "plt.title('ROC Curve')\n",
    "plt.legend(loc=\"lower right\")\n",
    "plt.show()"
   ]
  },
  {
   "cell_type": "code",
   "execution_count": null,
   "metadata": {},
   "outputs": [],
   "source": []
  }
 ],
 "metadata": {
  "kernelspec": {
   "display_name": "Python 3.7.6 64-bit ('base': conda)",
   "language": "python",
   "name": "python37664bitbaseconda67bbc7fd08164ac696b06cd0e59a676a"
  },
  "language_info": {
   "codemirror_mode": {
    "name": "ipython",
    "version": 3
   },
   "file_extension": ".py",
   "mimetype": "text/x-python",
   "name": "python",
   "nbconvert_exporter": "python",
   "pygments_lexer": "ipython3",
   "version": "3.7.6"
  },
  "toc": {
   "base_numbering": 1,
   "nav_menu": {},
   "number_sections": true,
   "sideBar": true,
   "skip_h1_title": false,
   "title_cell": "Table of Contents",
   "title_sidebar": "Contents",
   "toc_cell": false,
   "toc_position": {},
   "toc_section_display": true,
   "toc_window_display": false
  }
 },
 "nbformat": 4,
 "nbformat_minor": 5
}
